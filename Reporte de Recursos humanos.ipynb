{
 "cells": [
  {
   "cell_type": "markdown",
   "id": "5aec00c7-2e4b-4229-b140-b21241214889",
   "metadata": {},
   "source": [
    "# Reporte de empleados Activos"
   ]
  },
  {
   "cell_type": "markdown",
   "id": "5be0e512-dc00-4ca0-aaee-bf890141de05",
   "metadata": {},
   "source": [
    "#### Libraries"
   ]
  },
  {
   "cell_type": "code",
   "execution_count": 1,
   "id": "73cf868a-ef02-4b6b-ae14-951edcaa8d1f",
   "metadata": {},
   "outputs": [],
   "source": [
    "import numpy as np\n",
    "import pandas as pd\n",
    "import matplotlib.pyplot as plt\n",
    "import seaborn as sns\n",
    "%matplotlib inline"
   ]
  },
  {
   "cell_type": "markdown",
   "id": "fd673fde-d6ac-40d5-8adb-eedb9fd2ce18",
   "metadata": {},
   "source": [
    "## Read data"
   ]
  },
  {
   "cell_type": "code",
   "execution_count": 2,
   "id": "1ed4b998-cf14-44b0-b14e-8a160b72e2c9",
   "metadata": {},
   "outputs": [
    {
     "data": {
      "text/html": [
       "<div>\n",
       "<style scoped>\n",
       "    .dataframe tbody tr th:only-of-type {\n",
       "        vertical-align: middle;\n",
       "    }\n",
       "\n",
       "    .dataframe tbody tr th {\n",
       "        vertical-align: top;\n",
       "    }\n",
       "\n",
       "    .dataframe thead th {\n",
       "        text-align: right;\n",
       "    }\n",
       "</style>\n",
       "<table border=\"1\" class=\"dataframe\">\n",
       "  <thead>\n",
       "    <tr style=\"text-align: right;\">\n",
       "      <th></th>\n",
       "      <th>ID Empleado</th>\n",
       "      <th>Función</th>\n",
       "      <th>Departamento</th>\n",
       "      <th>Unidad</th>\n",
       "      <th>Educación</th>\n",
       "      <th>Género</th>\n",
       "      <th>Tipo de Trabajo</th>\n",
       "      <th>Modalidad</th>\n",
       "      <th>Fecha Contratación</th>\n",
       "      <th>Estatus</th>\n",
       "      <th>Fecha Baja</th>\n",
       "    </tr>\n",
       "  </thead>\n",
       "  <tbody>\n",
       "    <tr>\n",
       "      <th>0</th>\n",
       "      <td>1</td>\n",
       "      <td>Operativa</td>\n",
       "      <td>Manufactura y Operaciones</td>\n",
       "      <td>Baja California</td>\n",
       "      <td>Con Grado</td>\n",
       "      <td>Hombre</td>\n",
       "      <td>Tiempo Completo</td>\n",
       "      <td>Presencial</td>\n",
       "      <td>2013-01-01</td>\n",
       "      <td>Inactivo</td>\n",
       "      <td>2013-03-06</td>\n",
       "    </tr>\n",
       "    <tr>\n",
       "      <th>1</th>\n",
       "      <td>2</td>\n",
       "      <td>Operativa</td>\n",
       "      <td>Manufactura y Operaciones</td>\n",
       "      <td>Baja California</td>\n",
       "      <td>Con Grado</td>\n",
       "      <td>Hombre</td>\n",
       "      <td>Medio Tiempo</td>\n",
       "      <td>Presencial</td>\n",
       "      <td>2013-01-01</td>\n",
       "      <td>Inactivo</td>\n",
       "      <td>2013-03-17</td>\n",
       "    </tr>\n",
       "    <tr>\n",
       "      <th>2</th>\n",
       "      <td>3</td>\n",
       "      <td>Administrativa</td>\n",
       "      <td>Ventas y Marketing</td>\n",
       "      <td>Nuevo León</td>\n",
       "      <td>Sin Grado</td>\n",
       "      <td>Hombre</td>\n",
       "      <td>Medio Tiempo</td>\n",
       "      <td>Remoto</td>\n",
       "      <td>2013-01-01</td>\n",
       "      <td>Inactivo</td>\n",
       "      <td>2013-03-26</td>\n",
       "    </tr>\n",
       "    <tr>\n",
       "      <th>3</th>\n",
       "      <td>4</td>\n",
       "      <td>Administrativa</td>\n",
       "      <td>Servicio a cliente</td>\n",
       "      <td>Baja California</td>\n",
       "      <td>Sin Grado</td>\n",
       "      <td>Mujer</td>\n",
       "      <td>Tiempo Completo</td>\n",
       "      <td>Remoto</td>\n",
       "      <td>2013-01-01</td>\n",
       "      <td>Inactivo</td>\n",
       "      <td>2013-03-29</td>\n",
       "    </tr>\n",
       "    <tr>\n",
       "      <th>4</th>\n",
       "      <td>5</td>\n",
       "      <td>Operativa</td>\n",
       "      <td>Ingeniería y Tecnología</td>\n",
       "      <td>Nuevo León</td>\n",
       "      <td>Con Grado</td>\n",
       "      <td>Hombre</td>\n",
       "      <td>Tiempo Completo</td>\n",
       "      <td>Remoto</td>\n",
       "      <td>2013-01-01</td>\n",
       "      <td>Inactivo</td>\n",
       "      <td>2013-04-18</td>\n",
       "    </tr>\n",
       "  </tbody>\n",
       "</table>\n",
       "</div>"
      ],
      "text/plain": [
       "   ID Empleado         Función               Departamento           Unidad  \\\n",
       "0            1       Operativa  Manufactura y Operaciones  Baja California   \n",
       "1            2       Operativa  Manufactura y Operaciones  Baja California   \n",
       "2            3  Administrativa         Ventas y Marketing       Nuevo León   \n",
       "3            4  Administrativa         Servicio a cliente  Baja California   \n",
       "4            5       Operativa    Ingeniería y Tecnología       Nuevo León   \n",
       "\n",
       "   Educación  Género  Tipo de Trabajo   Modalidad Fecha Contratación  \\\n",
       "0  Con Grado  Hombre  Tiempo Completo  Presencial         2013-01-01   \n",
       "1  Con Grado  Hombre     Medio Tiempo  Presencial         2013-01-01   \n",
       "2  Sin Grado  Hombre     Medio Tiempo      Remoto         2013-01-01   \n",
       "3  Sin Grado   Mujer  Tiempo Completo      Remoto         2013-01-01   \n",
       "4  Con Grado  Hombre  Tiempo Completo      Remoto         2013-01-01   \n",
       "\n",
       "    Estatus Fecha Baja  \n",
       "0  Inactivo 2013-03-06  \n",
       "1  Inactivo 2013-03-17  \n",
       "2  Inactivo 2013-03-26  \n",
       "3  Inactivo 2013-03-29  \n",
       "4  Inactivo 2013-04-18  "
      ]
     },
     "execution_count": 2,
     "metadata": {},
     "output_type": "execute_result"
    }
   ],
   "source": [
    "df = pd.read_excel('RH data.xlsx')\n",
    "df.head()"
   ]
  },
  {
   "cell_type": "code",
   "execution_count": 3,
   "id": "b94deb92-1315-47b4-9730-f881fae9a497",
   "metadata": {},
   "outputs": [
    {
     "data": {
      "text/plain": [
       "(3520, 11)"
      ]
     },
     "execution_count": 3,
     "metadata": {},
     "output_type": "execute_result"
    }
   ],
   "source": [
    "df.shape"
   ]
  },
  {
   "cell_type": "code",
   "execution_count": 6,
   "id": "0b4cec1b-620e-442b-ab9b-f99d8955dbc4",
   "metadata": {},
   "outputs": [
    {
     "data": {
      "text/plain": [
       "ID Empleado              0\n",
       "Función                  0\n",
       "Departamento             0\n",
       "Unidad                   0\n",
       "Educación                0\n",
       "Género                   0\n",
       "Tipo de Trabajo          0\n",
       "Modalidad                0\n",
       "Fecha Contratación       0\n",
       "Estatus                  0\n",
       "Fecha Baja            1770\n",
       "dtype: int64"
      ]
     },
     "execution_count": 6,
     "metadata": {},
     "output_type": "execute_result"
    }
   ],
   "source": [
    "df.isnull().sum()"
   ]
  },
  {
   "cell_type": "markdown",
   "id": "7faa109d-f6c0-4dae-8399-6c4436d6300d",
   "metadata": {},
   "source": [
    "## EDA"
   ]
  },
  {
   "cell_type": "code",
   "execution_count": 8,
   "id": "97d23f8c-f950-4fb0-be3d-b93d74545902",
   "metadata": {},
   "outputs": [
    {
     "data": {
      "text/plain": [
       "Activo      1770\n",
       "Inactivo    1750\n",
       "Name: Estatus, dtype: int64"
      ]
     },
     "execution_count": 8,
     "metadata": {},
     "output_type": "execute_result"
    }
   ],
   "source": [
    "df['Estatus'].value_counts()"
   ]
  },
  {
   "cell_type": "code",
   "execution_count": 9,
   "id": "a6e5aaae-9e81-44e0-ab1a-7fc85427247c",
   "metadata": {},
   "outputs": [
    {
     "data": {
      "text/html": [
       "<div>\n",
       "<style scoped>\n",
       "    .dataframe tbody tr th:only-of-type {\n",
       "        vertical-align: middle;\n",
       "    }\n",
       "\n",
       "    .dataframe tbody tr th {\n",
       "        vertical-align: top;\n",
       "    }\n",
       "\n",
       "    .dataframe thead th {\n",
       "        text-align: right;\n",
       "    }\n",
       "</style>\n",
       "<table border=\"1\" class=\"dataframe\">\n",
       "  <thead>\n",
       "    <tr style=\"text-align: right;\">\n",
       "      <th></th>\n",
       "      <th>ID Empleado</th>\n",
       "      <th>Función</th>\n",
       "      <th>Departamento</th>\n",
       "      <th>Unidad</th>\n",
       "      <th>Educación</th>\n",
       "      <th>Género</th>\n",
       "      <th>Tipo de Trabajo</th>\n",
       "      <th>Modalidad</th>\n",
       "      <th>Fecha Contratación</th>\n",
       "      <th>Estatus</th>\n",
       "      <th>Fecha Baja</th>\n",
       "    </tr>\n",
       "  </thead>\n",
       "  <tbody>\n",
       "    <tr>\n",
       "      <th>221</th>\n",
       "      <td>222</td>\n",
       "      <td>Administrativa</td>\n",
       "      <td>Finanzas y Contabilidad</td>\n",
       "      <td>Estado de México</td>\n",
       "      <td>Con Grado</td>\n",
       "      <td>Hombre</td>\n",
       "      <td>Medio Tiempo</td>\n",
       "      <td>Remoto</td>\n",
       "      <td>2013-01-01</td>\n",
       "      <td>Activo</td>\n",
       "      <td>NaT</td>\n",
       "    </tr>\n",
       "    <tr>\n",
       "      <th>222</th>\n",
       "      <td>223</td>\n",
       "      <td>Administrativa</td>\n",
       "      <td>Finanzas y Contabilidad</td>\n",
       "      <td>Nuevo León</td>\n",
       "      <td>Con Grado</td>\n",
       "      <td>Hombre</td>\n",
       "      <td>Medio Tiempo</td>\n",
       "      <td>Presencial</td>\n",
       "      <td>2013-01-01</td>\n",
       "      <td>Activo</td>\n",
       "      <td>NaT</td>\n",
       "    </tr>\n",
       "    <tr>\n",
       "      <th>223</th>\n",
       "      <td>224</td>\n",
       "      <td>Administrativa</td>\n",
       "      <td>Finanzas y Contabilidad</td>\n",
       "      <td>Baja California</td>\n",
       "      <td>Con Grado</td>\n",
       "      <td>Hombre</td>\n",
       "      <td>Medio Tiempo</td>\n",
       "      <td>Presencial</td>\n",
       "      <td>2013-01-01</td>\n",
       "      <td>Activo</td>\n",
       "      <td>NaT</td>\n",
       "    </tr>\n",
       "    <tr>\n",
       "      <th>224</th>\n",
       "      <td>225</td>\n",
       "      <td>Administrativa</td>\n",
       "      <td>Finanzas y Contabilidad</td>\n",
       "      <td>Nuevo León</td>\n",
       "      <td>Con Grado</td>\n",
       "      <td>Hombre</td>\n",
       "      <td>Medio Tiempo</td>\n",
       "      <td>Presencial</td>\n",
       "      <td>2013-01-01</td>\n",
       "      <td>Activo</td>\n",
       "      <td>NaT</td>\n",
       "    </tr>\n",
       "    <tr>\n",
       "      <th>225</th>\n",
       "      <td>226</td>\n",
       "      <td>Administrativa</td>\n",
       "      <td>Finanzas y Contabilidad</td>\n",
       "      <td>Baja California</td>\n",
       "      <td>Con Grado</td>\n",
       "      <td>Hombre</td>\n",
       "      <td>Medio Tiempo</td>\n",
       "      <td>Remoto</td>\n",
       "      <td>2013-01-01</td>\n",
       "      <td>Activo</td>\n",
       "      <td>NaT</td>\n",
       "    </tr>\n",
       "  </tbody>\n",
       "</table>\n",
       "</div>"
      ],
      "text/plain": [
       "     ID Empleado         Función             Departamento            Unidad  \\\n",
       "221          222  Administrativa  Finanzas y Contabilidad  Estado de México   \n",
       "222          223  Administrativa  Finanzas y Contabilidad        Nuevo León   \n",
       "223          224  Administrativa  Finanzas y Contabilidad   Baja California   \n",
       "224          225  Administrativa  Finanzas y Contabilidad        Nuevo León   \n",
       "225          226  Administrativa  Finanzas y Contabilidad   Baja California   \n",
       "\n",
       "     Educación  Género Tipo de Trabajo   Modalidad Fecha Contratación Estatus  \\\n",
       "221  Con Grado  Hombre    Medio Tiempo      Remoto         2013-01-01  Activo   \n",
       "222  Con Grado  Hombre    Medio Tiempo  Presencial         2013-01-01  Activo   \n",
       "223  Con Grado  Hombre    Medio Tiempo  Presencial         2013-01-01  Activo   \n",
       "224  Con Grado  Hombre    Medio Tiempo  Presencial         2013-01-01  Activo   \n",
       "225  Con Grado  Hombre    Medio Tiempo      Remoto         2013-01-01  Activo   \n",
       "\n",
       "    Fecha Baja  \n",
       "221        NaT  \n",
       "222        NaT  \n",
       "223        NaT  \n",
       "224        NaT  \n",
       "225        NaT  "
      ]
     },
     "execution_count": 9,
     "metadata": {},
     "output_type": "execute_result"
    }
   ],
   "source": [
    "# filter to active employee\n",
    "data= df[df['Estatus']=='Activo']\n",
    "data.head()"
   ]
  },
  {
   "cell_type": "markdown",
   "id": "9cfef1f8-e7fe-4f27-b94b-c3e2d3a54893",
   "metadata": {},
   "source": [
    "#### Cantidad de empleados activos"
   ]
  },
  {
   "cell_type": "code",
   "execution_count": 10,
   "id": "294e124b-a11a-4ab4-8e2a-e5c24ca13204",
   "metadata": {},
   "outputs": [
    {
     "data": {
      "text/plain": [
       "1770"
      ]
     },
     "execution_count": 10,
     "metadata": {},
     "output_type": "execute_result"
    }
   ],
   "source": [
    "data.shape[0]"
   ]
  },
  {
   "cell_type": "markdown",
   "id": "6fac992b-77fc-4ba4-adeb-ff169ff261db",
   "metadata": {},
   "source": [
    "#### Cantidad por Genero"
   ]
  },
  {
   "cell_type": "code",
   "execution_count": 18,
   "id": "b3199633-af31-45e7-92bc-d10e93fa47cc",
   "metadata": {},
   "outputs": [
    {
     "data": {
      "text/plain": [
       "Hombre    54.0\n",
       "Mujer     46.0\n",
       "Name: Género, dtype: float64"
      ]
     },
     "execution_count": 18,
     "metadata": {},
     "output_type": "execute_result"
    }
   ],
   "source": [
    "round(data['Género'].value_counts(normalize =True)*100, 0)"
   ]
  },
  {
   "cell_type": "code",
   "execution_count": 21,
   "id": "9e35ca26-03ad-42c0-aa8c-6f402658d4a1",
   "metadata": {},
   "outputs": [
    {
     "data": {
      "image/png": "[encoded data removed]",
      "text/plain": [
       "<Figure size 432x288 with 1 Axes>"
      ]
     },
     "metadata": {},
     "output_type": "display_data"
    }
   ],
   "source": [
    "data['Género'].value_counts().plot(kind = 'pie', autopct= '%1.f%%').set_title('Cantidad de empleados por Genero');"
   ]
  },
  {
   "cell_type": "code",
   "execution_count": 22,
   "id": "4e7d0c74-91a4-4874-908a-a59b8478dbba",
   "metadata": {},
   "outputs": [
    {
     "data": {
      "image/png": "[encoded data removed]",
      "text/plain": [
       "<Figure size 432x288 with 1 Axes>"
      ]
     },
     "metadata": {},
     "output_type": "display_data"
    }
   ],
   "source": [
    "data['Función'].value_counts().plot(kind = 'pie', autopct= '%1.f%%').set_title('Cantidad de empleados por Función');"
   ]
  },
  {
   "cell_type": "code",
   "execution_count": 23,
   "id": "c7a84eb4-c8e9-4ca0-b934-428164de0ada",
   "metadata": {},
   "outputs": [
    {
     "data": {
      "image/png": "[encoded data removed]",
      "text/plain": [
       "<Figure size 432x288 with 1 Axes>"
      ]
     },
     "metadata": {},
     "output_type": "display_data"
    }
   ],
   "source": [
    "data['Tipo de Trabajo'].value_counts().plot(kind = 'pie', autopct= '%1.f%%').set_title('Cantidad de empleados por Tipo de Trabajo');"
   ]
  },
  {
   "cell_type": "code",
   "execution_count": 24,
   "id": "9cb83330-200f-4d84-9374-b4784ea7e8d5",
   "metadata": {},
   "outputs": [
    {
     "data": {
      "image/png": "[encoded data removed]",
      "text/plain": [
       "<Figure size 432x288 with 1 Axes>"
      ]
     },
     "metadata": {},
     "output_type": "display_data"
    }
   ],
   "source": [
    "data['Modalidad'].value_counts().plot(kind = 'pie', autopct= '%1.f%%').set_title('Cantidad de empleados por Tipo de Modalidad');"
   ]
  },
  {
   "cell_type": "code",
   "execution_count": 25,
   "id": "8ee69a8b-d88c-4310-88f9-e193e86a46aa",
   "metadata": {},
   "outputs": [
    {
     "data": {
      "image/png": "[encoded data removed]",
      "text/plain": [
       "<Figure size 432x288 with 1 Axes>"
      ]
     },
     "metadata": {},
     "output_type": "display_data"
    }
   ],
   "source": [
    "data['Educación'].value_counts().plot(kind = 'pie', autopct= '%1.f%%').set_title('Cantidad de empleados por Tipo de Educacion');"
   ]
  },
  {
   "cell_type": "code",
   "execution_count": 29,
   "id": "3994948f-9a2e-4bc6-8a91-c0247c792cc6",
   "metadata": {},
   "outputs": [
    {
     "data": {
      "image/png": "[encoded data removed]",
      "text/plain": [
       "<Figure size 432x288 with 1 Axes>"
      ]
     },
     "metadata": {
      "needs_background": "light"
     },
     "output_type": "display_data"
    }
   ],
   "source": [
    "sns.countplot(x = 'Unidad', data = data, color ='b').set_title('Cantidad de empleados por Unidad', color = 'blue');"
   ]
  },
  {
   "cell_type": "code",
   "execution_count": 30,
   "id": "19535aa5-0227-423f-a48c-72913bb70b80",
   "metadata": {},
   "outputs": [
    {
     "data": {
      "image/png": "[encoded data removed]",
      "text/plain": [
       "<Figure size 432x288 with 1 Axes>"
      ]
     },
     "metadata": {
      "needs_background": "light"
     },
     "output_type": "display_data"
    }
   ],
   "source": [
    "sns.countplot(y = 'Departamento', data = data, color = 'b').set_title('Cantidad de empleados por Departamento');"
   ]
  }
 ],
 "metadata": {
  "kernelspec": {
   "display_name": "Python 3",
   "language": "python",
   "name": "python3"
  },
  "language_info": {
   "codemirror_mode": {
    "name": "ipython",
    "version": 3
   },
   "file_extension": ".py",
   "mimetype": "text/x-python",
   "name": "python",
   "nbconvert_exporter": "python",
   "pygments_lexer": "ipython3",
   "version": "3.8.8"
  }
 },
 "nbformat": 4,
 "nbformat_minor": 5
}
